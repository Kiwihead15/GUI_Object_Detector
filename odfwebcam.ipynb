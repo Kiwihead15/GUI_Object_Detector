{
 "cells": [
  {
   "cell_type": "markdown",
   "metadata": {},
   "source": [
    "# Image Detector from a WebCam in Real Time"
   ]
  },
  {
   "cell_type": "markdown",
   "metadata": {},
   "source": [
    "This script detect objects form the webcam. By default the webcam is set to 640 x 480, 5 fps, no audio.\n",
    "ML model is yolo4.  It was trained with 320x320 images to detect the following objects:\n",
    "\n",
    " ['person', 'bicycle', 'car', 'motorbike', 'aeroplane', 'bus', 'train', 'truck', 'boat', 'traffic light', 'fire hydrant', 'stop sign', 'parking meter', 'bench', 'bird', 'cat', 'dog', 'horse', 'sheep', 'cow', 'elephant', 'bear', 'zebra', 'giraffe', 'backpack', 'umbrella', 'handbag', 'tie', 'suitcase', 'frisbee', 'skis', 'snowboard', 'sports ball', 'kite', 'baseball bat', 'baseball glove', 'skateboard', 'surfboard', 'tennis racket', 'bottle', 'wine glass', 'cup', 'fork', 'knife', 'spoon', 'bowl', 'banana', 'apple', 'sandwich', 'orange', 'broccoli', 'carrot', 'hot dog', 'pizza', 'donut', 'cake', 'chair', 'sofa', 'pottedplant', 'bed', 'diningtable', 'toilet', 'tvmonitor', 'laptop', 'mouse', 'remote', 'keyboard', 'cell phone', 'microwave', 'oven', 'toaster', 'sink', 'refrigerator', 'book', 'clock', 'vase', 'scissors', 'teddy bear', 'hair drier', 'toothbrush']\n",
    "\n",
    "When the webcam starts, there will be as buttons as objects we had pre-selected in the code to be identified. When the button is active the bouding borders are draw in the video, otherwise the object is not bounding bordered.\n",
    "\n",
    "The video stops when the ESC key is pressed. As soon as the video stops, the script requests to press key \"y\", if you want to delete all captured images used to make the output video (delete all files in the folder), or \"n\" to keep them in the folder.\n",
    "\n",
    "The captured images are saved into \"/image_for_video\" folder\n",
    "The output video is saved into \"/video_output\" folder, and named as \"video_output.mp4\"."
   ]
  },
  {
   "cell_type": "markdown",
   "metadata": {},
   "source": [
    "## Import modules"
   ]
  },
  {
   "cell_type": "code",
   "execution_count": 32,
   "metadata": {},
   "outputs": [],
   "source": [
    "import cv2\n",
    "import os\n",
    "import glob\n",
    "import re\n",
    "from tkinter import Tk     # from tkinter import Tk for Python 3.x\n",
    "from tkinter.filedialog import askopenfilename\n",
    "from gui_buttons import Buttons\n",
    "from numpy import append\n"
   ]
  },
  {
   "cell_type": "markdown",
   "metadata": {},
   "source": [
    "## Create a button for objects (classes) to be detected"
   ]
  },
  {
   "cell_type": "code",
   "execution_count": 33,
   "metadata": {},
   "outputs": [],
   "source": [
    "button = Buttons()\n",
    "button.add_button(\"person\",20,20)        #last parameter(,20) is y coordenate, next button has +20 coordinate, and so on.\n",
    "button.add_button(\"sports ball\",20,40)\n",
    "button.add_button(\"cell phone\",20,60)\n",
    "\n",
    "colors = button.colors"
   ]
  },
  {
   "cell_type": "markdown",
   "metadata": {},
   "source": [
    "## AI Model Parameters"
   ]
  },
  {
   "cell_type": "code",
   "execution_count": 34,
   "metadata": {},
   "outputs": [],
   "source": [
    "net = cv2.dnn.readNet('dnn_model\\yolov4-tiny.weights','dnn_model\\yolov4-tiny.cfg')\n",
    "model = cv2.dnn_DetectionModel(net)\n",
    "model.setInputParams(size=(320,320), scale=1/255)"
   ]
  },
  {
   "cell_type": "markdown",
   "metadata": {},
   "source": [
    "## Function definition for mouse clicks on buttons"
   ]
  },
  {
   "cell_type": "code",
   "execution_count": 35,
   "metadata": {},
   "outputs": [],
   "source": [
    "def click_button(event, x,y,flags,params):\n",
    "    global button_object\n",
    "    if event == cv2.EVENT_LBUTTONDOWN:\n",
    "        button.button_click(x,y)\n",
    "        "
   ]
  },
  {
   "cell_type": "markdown",
   "metadata": {},
   "source": [
    "## Window creation to be selected to the mouse callback mode "
   ]
  },
  {
   "cell_type": "code",
   "execution_count": 36,
   "metadata": {},
   "outputs": [],
   "source": [
    "cv2.namedWindow('Frame')\n",
    "cv2.setMouseCallback('Frame',click_button)"
   ]
  },
  {
   "cell_type": "markdown",
   "metadata": {},
   "source": [
    "## Read the classes file and generate a numpy array with them"
   ]
  },
  {
   "cell_type": "code",
   "execution_count": 37,
   "metadata": {},
   "outputs": [],
   "source": [
    "classes=[]\n",
    "with open('dnn_model\\classes.txt','r') as file_object:\n",
    "    for class_name in file_object.readlines():\n",
    "        class_name = class_name.strip()\n",
    "        classes.append(class_name)\n",
    "\n",
    "#print(\"Objects list\")\n",
    "#print(classes)"
   ]
  },
  {
   "cell_type": "markdown",
   "metadata": {},
   "source": [
    "## Open Webcam"
   ]
  },
  {
   "cell_type": "code",
   "execution_count": 38,
   "metadata": {},
   "outputs": [
    {
     "name": "stdout",
     "output_type": "stream",
     "text": [
      "Openning webcam\n"
     ]
    }
   ],
   "source": [
    "cap = cv2.VideoCapture(0)\n",
    "cap.set(cv2.CAP_PROP_FRAME_WIDTH, 640)\n",
    "cap.set(cv2.CAP_PROP_FRAME_HEIGHT, 480)\n",
    "print(\"Openning webcam\")"
   ]
  },
  {
   "cell_type": "markdown",
   "metadata": {},
   "source": [
    "## Capture frames, predict, show and stop video until \"Esc\" key is pressed"
   ]
  },
  {
   "cell_type": "code",
   "execution_count": 39,
   "metadata": {},
   "outputs": [],
   "source": [
    "count = 100000\n",
    "while(cap.isOpened()):\n",
    "    ret, frame = cap.read()\n",
    "    #frame = cv2.flip(frame, flipCode=-1)   #Flip the frame in both axes.\n",
    "\n",
    "    if ret==False:\n",
    "        print(\"Error Loading Image\")\n",
    "        break\n",
    "    \n",
    "    # get activated buttons list\n",
    "    active_buttons = button.active_buttons_list() \n",
    "\n",
    "    (class_ids, scores, bboxes) = model.detect(frame, confThreshold=0.3, nmsThreshold=0.4)\n",
    "    \n",
    "    for class_id, score, bbox in zip(class_ids, scores, bboxes):\n",
    "        class_id = int(class_id )    # need just for cv2 4.5.3\n",
    "        (x, y, w , h) = bbox\n",
    "        class_name = classes[class_id]\n",
    "        color = colors[class_id]\n",
    "        \n",
    "        if class_name in active_buttons:\n",
    "            cv2.putText(frame,str(class_name), (x,y-10), cv2.FONT_HERSHEY_PLAIN,2, color,2 )\n",
    "            cv2.rectangle(frame,(x,y),(x+w,y+h),color,3)\n",
    "    \n",
    "    button.display_buttons(frame)\n",
    "    \n",
    "    cv2.imshow(\"Frame\",frame)\n",
    "    \n",
    "    cv2.imwrite((r'images_for_video\\frame'+str(count)+'.png'), frame)     # save frame as JPEG file      \n",
    "    count += 1\n",
    "    \n",
    "    key =  cv2.waitKey(1)\n",
    "    if key == 27 :\n",
    "        break\n",
    "\n",
    "cap.release()\n",
    "cv2.destroyAllWindows() "
   ]
  },
  {
   "cell_type": "markdown",
   "metadata": {},
   "source": [
    "# Make a video from captured frames"
   ]
  },
  {
   "cell_type": "code",
   "execution_count": 40,
   "metadata": {},
   "outputs": [
    {
     "name": "stdout",
     "output_type": "stream",
     "text": [
      "Making output video...\n",
      "Output video was saved into video_output folder and named ...video_output.mp4\n"
     ]
    }
   ],
   "source": [
    "image_folder = 'images_for_video'\n",
    "video_file = 'video_output\\\\video_output.mp4'\n",
    "image_size = (640, 480)\n",
    "fps = 5\n",
    "\n",
    "images = [img for img in os.listdir(image_folder) if img.endswith(\".png\")]\n",
    "images.sort()\n",
    "\n",
    "out = cv2.VideoWriter(video_file, cv2.VideoWriter_fourcc(*'MP4V'), fps, image_size)\n",
    "\n",
    "img_array = []\n",
    "print(\"Making output video...\")\n",
    "for filename in images:\n",
    "    img = cv2.imread(os.path.join(image_folder, filename))\n",
    "    img_array.append(img)\n",
    "    out.write(img)\n",
    "print(\"Output video was saved into video_output folder and named ...video_output.mp4\")\n",
    "out.release()"
   ]
  },
  {
   "cell_type": "markdown",
   "metadata": {},
   "source": [
    "# Delete or keep frames"
   ]
  },
  {
   "cell_type": "code",
   "execution_count": 41,
   "metadata": {},
   "outputs": [
    {
     "name": "stdout",
     "output_type": "stream",
     "text": [
      "Deleting captured images...\n",
      "Captured images have been deleted\n"
     ]
    }
   ],
   "source": [
    "answer = input(\"Do you want to erase the images? Press y or any other key to keep them, then press Enter key: \") \n",
    "if answer == \"y\": \n",
    "    path = 'images_for_video'\n",
    "    print (\"Deleting captured images...\")\n",
    "    for file_name in os.listdir(path):\n",
    "    # construct full file path\n",
    "        file = path + \"\\\\\" + file_name\n",
    "        if os.path.isfile(file):\n",
    "            os.remove(file)\n",
    "    print (\"Captured images have been deleted\")\n",
    "else :\n",
    "    print (\"Captured images are saved into /images_for_video\") "
   ]
  },
  {
   "cell_type": "code",
   "execution_count": 42,
   "metadata": {},
   "outputs": [],
   "source": [
    "cv2.destroyAllWindows() "
   ]
  }
 ],
 "metadata": {
  "kernelspec": {
   "display_name": "Python 3.8.5 64-bit",
   "language": "python",
   "name": "python3"
  },
  "language_info": {
   "codemirror_mode": {
    "name": "ipython",
    "version": 3
   },
   "file_extension": ".py",
   "mimetype": "text/x-python",
   "name": "python",
   "nbconvert_exporter": "python",
   "pygments_lexer": "ipython3",
   "version": "3.8.5"
  },
  "orig_nbformat": 4,
  "vscode": {
   "interpreter": {
    "hash": "c74bc13b5b42c74589485fdf151d6d754a3100e535281c45eb78a57c1ac59eed"
   }
  }
 },
 "nbformat": 4,
 "nbformat_minor": 2
}

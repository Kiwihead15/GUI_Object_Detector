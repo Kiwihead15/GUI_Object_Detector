{
 "cells": [
  {
   "cell_type": "code",
   "execution_count": 1,
   "id": "b477d112",
   "metadata": {
    "execution": {
     "iopub.execute_input": "2022-10-10T10:17:54.951890Z",
     "iopub.status.busy": "2022-10-10T10:17:54.951163Z",
     "iopub.status.idle": "2022-10-10T10:18:24.988555Z",
     "shell.execute_reply": "2022-10-10T10:18:24.987257Z"
    },
    "papermill": {
     "duration": 30.049735,
     "end_time": "2022-10-10T10:18:24.991412",
     "exception": false,
     "start_time": "2022-10-10T10:17:54.941677",
     "status": "completed"
    },
    "tags": []
   },
   "outputs": [
    {
     "name": "stdout",
     "output_type": "stream",
     "text": [
      "Collecting caer\r\n",
      "  Downloading caer-2.0.8-py3-none-any.whl (809 kB)\r\n",
      "\u001b[2K     \u001b[90m━━━━━━━━━━━━━━━━━━━━━━━━━━━━━━━━━━━━━━━\u001b[0m \u001b[32m809.5/809.5 kB\u001b[0m \u001b[31m3.2 MB/s\u001b[0m eta \u001b[36m0:00:00\u001b[0m\r\n",
      "\u001b[?25hCollecting canaro\r\n",
      "  Downloading canaro-1.1.0-py3-none-any.whl (19 kB)\r\n",
      "Requirement already satisfied: opencv-contrib-python in /opt/conda/lib/python3.7/site-packages (from caer) (4.5.4.60)\r\n",
      "Collecting mypy\r\n",
      "  Downloading mypy-0.982-cp37-cp37m-manylinux_2_17_x86_64.manylinux2014_x86_64.whl (15.1 MB)\r\n",
      "\u001b[2K     \u001b[90m━━━━━━━━━━━━━━━━━━━━━━━━━━━━━━━━━━━━━━━━\u001b[0m \u001b[32m15.1/15.1 MB\u001b[0m \u001b[31m36.3 MB/s\u001b[0m eta \u001b[36m0:00:00\u001b[0m\r\n",
      "\u001b[?25hRequirement already satisfied: typing-extensions in /opt/conda/lib/python3.7/site-packages (from caer) (4.3.0)\r\n",
      "Requirement already satisfied: numpy in /opt/conda/lib/python3.7/site-packages (from caer) (1.21.6)\r\n",
      "Requirement already satisfied: tensorflow in /opt/conda/lib/python3.7/site-packages (from canaro) (2.6.4)\r\n",
      "Requirement already satisfied: tomli>=1.1.0 in /opt/conda/lib/python3.7/site-packages (from mypy->caer) (2.0.1)\r\n",
      "Requirement already satisfied: typed-ast<2,>=1.4.0 in /opt/conda/lib/python3.7/site-packages (from mypy->caer) (1.5.4)\r\n",
      "Requirement already satisfied: mypy-extensions>=0.4.3 in /opt/conda/lib/python3.7/site-packages (from mypy->caer) (0.4.3)\r\n",
      "Requirement already satisfied: google-pasta~=0.2 in /opt/conda/lib/python3.7/site-packages (from tensorflow->canaro) (0.2.0)\r\n",
      "Requirement already satisfied: protobuf>=3.9.2 in /opt/conda/lib/python3.7/site-packages (from tensorflow->canaro) (3.19.4)\r\n",
      "Requirement already satisfied: gast==0.4.0 in /opt/conda/lib/python3.7/site-packages (from tensorflow->canaro) (0.4.0)\r\n",
      "Requirement already satisfied: wheel~=0.35 in /opt/conda/lib/python3.7/site-packages (from tensorflow->canaro) (0.37.1)\r\n",
      "Requirement already satisfied: clang~=5.0 in /opt/conda/lib/python3.7/site-packages (from tensorflow->canaro) (5.0)\r\n",
      "Requirement already satisfied: six~=1.15.0 in /opt/conda/lib/python3.7/site-packages (from tensorflow->canaro) (1.15.0)\r\n",
      "Collecting tensorboard<2.7,>=2.6.0\r\n",
      "  Downloading tensorboard-2.6.0-py3-none-any.whl (5.6 MB)\r\n",
      "\u001b[2K     \u001b[90m━━━━━━━━━━━━━━━━━━━━━━━━━━━━━━━━━━━━━━━━\u001b[0m \u001b[32m5.6/5.6 MB\u001b[0m \u001b[31m37.4 MB/s\u001b[0m eta \u001b[36m0:00:00\u001b[0m\r\n",
      "\u001b[?25hRequirement already satisfied: absl-py~=0.10 in /opt/conda/lib/python3.7/site-packages (from tensorflow->canaro) (0.15.0)\r\n",
      "Requirement already satisfied: flatbuffers~=1.12.0 in /opt/conda/lib/python3.7/site-packages (from tensorflow->canaro) (1.12)\r\n",
      "Requirement already satisfied: astunparse~=1.6.3 in /opt/conda/lib/python3.7/site-packages (from tensorflow->canaro) (1.6.3)\r\n",
      "Requirement already satisfied: tensorflow-estimator<2.7,>=2.6.0 in /opt/conda/lib/python3.7/site-packages (from tensorflow->canaro) (2.6.0)\r\n",
      "Requirement already satisfied: grpcio<2.0,>=1.37.0 in /opt/conda/lib/python3.7/site-packages (from tensorflow->canaro) (1.43.0)\r\n",
      "Requirement already satisfied: wrapt~=1.12.1 in /opt/conda/lib/python3.7/site-packages (from tensorflow->canaro) (1.12.1)\r\n",
      "Requirement already satisfied: termcolor~=1.1.0 in /opt/conda/lib/python3.7/site-packages (from tensorflow->canaro) (1.1.0)\r\n",
      "Requirement already satisfied: keras<2.7,>=2.6.0 in /opt/conda/lib/python3.7/site-packages (from tensorflow->canaro) (2.6.0)\r\n",
      "Collecting h5py~=3.1.0\r\n",
      "  Downloading h5py-3.1.0-cp37-cp37m-manylinux1_x86_64.whl (4.0 MB)\r\n",
      "\u001b[2K     \u001b[90m━━━━━━━━━━━━━━━━━━━━━━━━━━━━━━━━━━━━━━━━\u001b[0m \u001b[32m4.0/4.0 MB\u001b[0m \u001b[31m46.1 MB/s\u001b[0m eta \u001b[36m0:00:00\u001b[0m\r\n",
      "\u001b[?25hRequirement already satisfied: opt-einsum~=3.3.0 in /opt/conda/lib/python3.7/site-packages (from tensorflow->canaro) (3.3.0)\r\n",
      "Requirement already satisfied: keras-preprocessing~=1.1.2 in /opt/conda/lib/python3.7/site-packages (from tensorflow->canaro) (1.1.2)\r\n",
      "Collecting numpy\r\n",
      "  Downloading numpy-1.19.5-cp37-cp37m-manylinux2010_x86_64.whl (14.8 MB)\r\n",
      "\u001b[2K     \u001b[90m━━━━━━━━━━━━━━━━━━━━━━━━━━━━━━━━━━━━━━━━\u001b[0m \u001b[32m14.8/14.8 MB\u001b[0m \u001b[31m33.7 MB/s\u001b[0m eta \u001b[36m0:00:00\u001b[0m\r\n",
      "\u001b[?25hCollecting typing-extensions\r\n",
      "  Downloading typing_extensions-3.10.0.2-py3-none-any.whl (26 kB)\r\n",
      "Requirement already satisfied: cached-property in /opt/conda/lib/python3.7/site-packages (from h5py~=3.1.0->tensorflow->canaro) (1.5.2)\r\n",
      "Requirement already satisfied: google-auth<2,>=1.6.3 in /opt/conda/lib/python3.7/site-packages (from tensorboard<2.7,>=2.6.0->tensorflow->canaro) (1.35.0)\r\n",
      "Requirement already satisfied: werkzeug>=0.11.15 in /opt/conda/lib/python3.7/site-packages (from tensorboard<2.7,>=2.6.0->tensorflow->canaro) (2.2.2)\r\n",
      "Requirement already satisfied: tensorboard-data-server<0.7.0,>=0.6.0 in /opt/conda/lib/python3.7/site-packages (from tensorboard<2.7,>=2.6.0->tensorflow->canaro) (0.6.1)\r\n",
      "Requirement already satisfied: setuptools>=41.0.0 in /opt/conda/lib/python3.7/site-packages (from tensorboard<2.7,>=2.6.0->tensorflow->canaro) (59.8.0)\r\n",
      "Requirement already satisfied: tensorboard-plugin-wit>=1.6.0 in /opt/conda/lib/python3.7/site-packages (from tensorboard<2.7,>=2.6.0->tensorflow->canaro) (1.8.1)\r\n",
      "Requirement already satisfied: requests<3,>=2.21.0 in /opt/conda/lib/python3.7/site-packages (from tensorboard<2.7,>=2.6.0->tensorflow->canaro) (2.28.1)\r\n",
      "Requirement already satisfied: google-auth-oauthlib<0.5,>=0.4.1 in /opt/conda/lib/python3.7/site-packages (from tensorboard<2.7,>=2.6.0->tensorflow->canaro) (0.4.6)\r\n",
      "Requirement already satisfied: markdown>=2.6.8 in /opt/conda/lib/python3.7/site-packages (from tensorboard<2.7,>=2.6.0->tensorflow->canaro) (3.3.7)\r\n",
      "Requirement already satisfied: rsa<5,>=3.1.4 in /opt/conda/lib/python3.7/site-packages (from google-auth<2,>=1.6.3->tensorboard<2.7,>=2.6.0->tensorflow->canaro) (4.8)\r\n",
      "Requirement already satisfied: cachetools<5.0,>=2.0.0 in /opt/conda/lib/python3.7/site-packages (from google-auth<2,>=1.6.3->tensorboard<2.7,>=2.6.0->tensorflow->canaro) (4.2.4)\r\n",
      "Requirement already satisfied: pyasn1-modules>=0.2.1 in /opt/conda/lib/python3.7/site-packages (from google-auth<2,>=1.6.3->tensorboard<2.7,>=2.6.0->tensorflow->canaro) (0.2.7)\r\n",
      "Requirement already satisfied: requests-oauthlib>=0.7.0 in /opt/conda/lib/python3.7/site-packages (from google-auth-oauthlib<0.5,>=0.4.1->tensorboard<2.7,>=2.6.0->tensorflow->canaro) (1.3.1)\r\n",
      "Requirement already satisfied: importlib-metadata>=4.4 in /opt/conda/lib/python3.7/site-packages (from markdown>=2.6.8->tensorboard<2.7,>=2.6.0->tensorflow->canaro) (4.12.0)\r\n",
      "Requirement already satisfied: idna<4,>=2.5 in /opt/conda/lib/python3.7/site-packages (from requests<3,>=2.21.0->tensorboard<2.7,>=2.6.0->tensorflow->canaro) (3.3)\r\n",
      "Requirement already satisfied: urllib3<1.27,>=1.21.1 in /opt/conda/lib/python3.7/site-packages (from requests<3,>=2.21.0->tensorboard<2.7,>=2.6.0->tensorflow->canaro) (1.26.12)\r\n",
      "Requirement already satisfied: charset-normalizer<3,>=2 in /opt/conda/lib/python3.7/site-packages (from requests<3,>=2.21.0->tensorboard<2.7,>=2.6.0->tensorflow->canaro) (2.1.0)\r\n",
      "Requirement already satisfied: certifi>=2017.4.17 in /opt/conda/lib/python3.7/site-packages (from requests<3,>=2.21.0->tensorboard<2.7,>=2.6.0->tensorflow->canaro) (2022.6.15.2)\r\n",
      "Requirement already satisfied: MarkupSafe>=2.1.1 in /opt/conda/lib/python3.7/site-packages (from werkzeug>=0.11.15->tensorboard<2.7,>=2.6.0->tensorflow->canaro) (2.1.1)\r\n",
      "Requirement already satisfied: zipp>=0.5 in /opt/conda/lib/python3.7/site-packages (from importlib-metadata>=4.4->markdown>=2.6.8->tensorboard<2.7,>=2.6.0->tensorflow->canaro) (3.8.0)\r\n",
      "Requirement already satisfied: pyasn1<0.5.0,>=0.4.6 in /opt/conda/lib/python3.7/site-packages (from pyasn1-modules>=0.2.1->google-auth<2,>=1.6.3->tensorboard<2.7,>=2.6.0->tensorflow->canaro) (0.4.8)\r\n",
      "Requirement already satisfied: oauthlib>=3.0.0 in /opt/conda/lib/python3.7/site-packages (from requests-oauthlib>=0.7.0->google-auth-oauthlib<0.5,>=0.4.1->tensorboard<2.7,>=2.6.0->tensorflow->canaro) (3.2.0)\r\n",
      "Installing collected packages: typing-extensions, numpy, mypy, h5py, caer, tensorboard, canaro\r\n",
      "  Attempting uninstall: typing-extensions\r\n",
      "    Found existing installation: typing_extensions 4.3.0\r\n",
      "    Uninstalling typing_extensions-4.3.0:\r\n",
      "      Successfully uninstalled typing_extensions-4.3.0\r\n",
      "  Attempting uninstall: numpy\r\n",
      "    Found existing installation: numpy 1.21.6\r\n",
      "    Uninstalling numpy-1.21.6:\r\n",
      "      Successfully uninstalled numpy-1.21.6\r\n",
      "  Attempting uninstall: h5py\r\n",
      "    Found existing installation: h5py 3.7.0\r\n",
      "    Uninstalling h5py-3.7.0:\r\n",
      "      Successfully uninstalled h5py-3.7.0\r\n",
      "  Attempting uninstall: tensorboard\r\n",
      "    Found existing installation: tensorboard 2.10.0\r\n",
      "    Uninstalling tensorboard-2.10.0:\r\n",
      "      Successfully uninstalled tensorboard-2.10.0\r\n",
      "\u001b[31mERROR: pip's dependency resolver does not currently take into account all the packages that are installed. This behaviour is the source of the following dependency conflicts.\r\n",
      "tensorflow-io 0.21.0 requires tensorflow-io-gcs-filesystem==0.21.0, which is not installed.\r\n",
      "dask-cudf 21.10.1 requires cupy-cuda114, which is not installed.\r\n",
      "beatrix-jupyterlab 3.1.7 requires google-cloud-bigquery-storage, which is not installed.\r\n",
      "xarray-einstats 0.2.2 requires numpy>=1.21, but you have numpy 1.19.5 which is incompatible.\r\n",
      "tfx-bsl 1.9.0 requires tensorflow!=2.0.*,!=2.1.*,!=2.2.*,!=2.3.*,!=2.4.*,!=2.5.*,!=2.6.*,!=2.7.*,!=2.8.*,<3,>=1.15.5, but you have tensorflow 2.6.4 which is incompatible.\r\n",
      "tensorflow-transform 1.9.0 requires tensorflow!=2.0.*,!=2.1.*,!=2.2.*,!=2.3.*,!=2.4.*,!=2.5.*,!=2.6.*,!=2.7.*,!=2.8.*,<2.10,>=1.15.5, but you have tensorflow 2.6.4 which is incompatible.\r\n",
      "tensorflow-serving-api 2.9.0 requires tensorflow<3,>=2.9.0, but you have tensorflow 2.6.4 which is incompatible.\r\n",
      "pytorch-lightning 1.7.6 requires tensorboard>=2.9.1, but you have tensorboard 2.6.0 which is incompatible.\r\n",
      "pytorch-lightning 1.7.6 requires typing-extensions>=4.0.0, but you have typing-extensions 3.10.0.2 which is incompatible.\r\n",
      "pytools 2022.1.12 requires typing-extensions>=4.0; python_version < \"3.11\", but you have typing-extensions 3.10.0.2 which is incompatible.\r\n",
      "pdpbox 0.2.1 requires matplotlib==3.1.1, but you have matplotlib 3.5.3 which is incompatible.\r\n",
      "pandas-profiling 3.1.0 requires markupsafe~=2.0.1, but you have markupsafe 2.1.1 which is incompatible.\r\n",
      "nnabla 1.30.0 requires numpy>=1.20.0, but you have numpy 1.19.5 which is incompatible.\r\n",
      "jax 0.3.17 requires numpy>=1.20, but you have numpy 1.19.5 which is incompatible.\r\n",
      "flax 0.6.0 requires rich~=11.1, but you have rich 12.1.0 which is incompatible.\r\n",
      "flax 0.6.0 requires typing-extensions>=4.1.1, but you have typing-extensions 3.10.0.2 which is incompatible.\r\n",
      "flake8 4.0.1 requires importlib-metadata<4.3; python_version < \"3.8\", but you have importlib-metadata 4.12.0 which is incompatible.\r\n",
      "featuretools 1.11.1 requires numpy>=1.21.0, but you have numpy 1.19.5 which is incompatible.\r\n",
      "dask-cudf 21.10.1 requires dask==2021.09.1, but you have dask 2022.2.0 which is incompatible.\r\n",
      "dask-cudf 21.10.1 requires distributed==2021.09.1, but you have distributed 2022.2.0 which is incompatible.\r\n",
      "cmdstanpy 1.0.7 requires numpy>=1.21, but you have numpy 1.19.5 which is incompatible.\r\n",
      "apache-beam 2.40.0 requires dill<0.3.2,>=0.3.1.1, but you have dill 0.3.5.1 which is incompatible.\r\n",
      "allennlp 2.10.0 requires h5py>=3.6.0, but you have h5py 3.1.0 which is incompatible.\r\n",
      "allennlp 2.10.0 requires numpy>=1.21.4, but you have numpy 1.19.5 which is incompatible.\r\n",
      "allennlp 2.10.0 requires protobuf==3.20.0, but you have protobuf 3.19.4 which is incompatible.\r\n",
      "aioitertools 0.10.0 requires typing_extensions>=4.0; python_version < \"3.10\", but you have typing-extensions 3.10.0.2 which is incompatible.\r\n",
      "aiobotocore 2.4.0 requires botocore<1.27.60,>=1.27.59, but you have botocore 1.27.72 which is incompatible.\u001b[0m\u001b[31m\r\n",
      "\u001b[0mSuccessfully installed caer-2.0.8 canaro-1.1.0 h5py-3.1.0 mypy-0.982 numpy-1.19.5 tensorboard-2.6.0 typing-extensions-3.10.0.2\r\n",
      "\u001b[33mWARNING: Running pip as the 'root' user can result in broken permissions and conflicting behaviour with the system package manager. It is recommended to use a virtual environment instead: https://pip.pypa.io/warnings/venv\u001b[0m\u001b[33m\r\n",
      "\u001b[0m"
     ]
    }
   ],
   "source": [
    "!pip install caer canaro"
   ]
  },
  {
   "cell_type": "code",
   "execution_count": 2,
   "id": "c36ea93c",
   "metadata": {
    "_kg_hide-input": false,
    "_kg_hide-output": false,
    "execution": {
     "iopub.execute_input": "2022-10-10T10:18:25.015243Z",
     "iopub.status.busy": "2022-10-10T10:18:25.014881Z",
     "iopub.status.idle": "2022-10-10T10:18:29.994521Z",
     "shell.execute_reply": "2022-10-10T10:18:29.993522Z"
    },
    "papermill": {
     "duration": 4.994134,
     "end_time": "2022-10-10T10:18:29.997249",
     "exception": false,
     "start_time": "2022-10-10T10:18:25.003115",
     "status": "completed"
    },
    "tags": []
   },
   "outputs": [],
   "source": [
    "import os\n",
    "import numpy as np\n",
    "import cv2 as cv\n",
    "import caer\n",
    "import canaro\n",
    "import gc"
   ]
  },
  {
   "cell_type": "markdown",
   "id": "860d638a",
   "metadata": {
    "papermill": {
     "duration": 0.010353,
     "end_time": "2022-10-10T10:18:30.020530",
     "exception": false,
     "start_time": "2022-10-10T10:18:30.010177",
     "status": "completed"
    },
    "tags": []
   },
   "source": [
    "# Some Parameters: Data Set's Path, GrayScale Images, 80x80 Images Size"
   ]
  },
  {
   "cell_type": "code",
   "execution_count": 3,
   "id": "5f41ba0e",
   "metadata": {
    "execution": {
     "iopub.execute_input": "2022-10-10T10:18:30.044429Z",
     "iopub.status.busy": "2022-10-10T10:18:30.043843Z",
     "iopub.status.idle": "2022-10-10T10:18:30.049645Z",
     "shell.execute_reply": "2022-10-10T10:18:30.048737Z"
    },
    "papermill": {
     "duration": 0.01955,
     "end_time": "2022-10-10T10:18:30.051682",
     "exception": false,
     "start_time": "2022-10-10T10:18:30.032132",
     "status": "completed"
    },
    "tags": []
   },
   "outputs": [],
   "source": [
    "IMG_SIZE=(80,80)\n",
    "channels =1\n",
    "char_path = r'../input/the-simpsons-characters-dataset/simpsons_dataset'\n"
   ]
  },
  {
   "cell_type": "markdown",
   "id": "307ebd9a",
   "metadata": {
    "papermill": {
     "duration": 0.010345,
     "end_time": "2022-10-10T10:18:30.072034",
     "exception": false,
     "start_time": "2022-10-10T10:18:30.061689",
     "status": "completed"
    },
    "tags": []
   },
   "source": [
    "# Build a dictionary with all the characters in the dataset, sorted by quantity of images in descendent order."
   ]
  },
  {
   "cell_type": "code",
   "execution_count": 4,
   "id": "fb4e0ddf",
   "metadata": {
    "execution": {
     "iopub.execute_input": "2022-10-10T10:18:30.093593Z",
     "iopub.status.busy": "2022-10-10T10:18:30.093313Z",
     "iopub.status.idle": "2022-10-10T10:18:36.537745Z",
     "shell.execute_reply": "2022-10-10T10:18:36.536764Z"
    },
    "papermill": {
     "duration": 6.457701,
     "end_time": "2022-10-10T10:18:36.540157",
     "exception": false,
     "start_time": "2022-10-10T10:18:30.082456",
     "status": "completed"
    },
    "tags": []
   },
   "outputs": [],
   "source": [
    "char_dict= {}\n",
    "for char in os.listdir(char_path):\n",
    "    char_dict[char] = len(os.listdir(os.path.join(char_path,char)))\n",
    "                           \n",
    "# Sort dictionary in descendent order\n",
    "\n",
    "char_dict = caer.sort_dict(char_dict,descending = True)\n",
    "                        "
   ]
  },
  {
   "cell_type": "markdown",
   "id": "d5619ea5",
   "metadata": {
    "papermill": {
     "duration": 0.010324,
     "end_time": "2022-10-10T10:18:36.561024",
     "exception": false,
     "start_time": "2022-10-10T10:18:36.550700",
     "status": "completed"
    },
    "tags": []
   },
   "source": [
    "# Took the 10 first characters (the ones with most data images) and assign it an index number in a list"
   ]
  },
  {
   "cell_type": "code",
   "execution_count": 5,
   "id": "4b408b52",
   "metadata": {
    "execution": {
     "iopub.execute_input": "2022-10-10T10:18:36.582860Z",
     "iopub.status.busy": "2022-10-10T10:18:36.582247Z",
     "iopub.status.idle": "2022-10-10T10:18:36.590871Z",
     "shell.execute_reply": "2022-10-10T10:18:36.589983Z"
    },
    "papermill": {
     "duration": 0.021772,
     "end_time": "2022-10-10T10:18:36.592937",
     "exception": false,
     "start_time": "2022-10-10T10:18:36.571165",
     "status": "completed"
    },
    "tags": []
   },
   "outputs": [
    {
     "data": {
      "text/plain": [
       "['homer_simpson',\n",
       " 'ned_flanders',\n",
       " 'moe_szyslak',\n",
       " 'lisa_simpson',\n",
       " 'bart_simpson',\n",
       " 'marge_simpson',\n",
       " 'krusty_the_clown',\n",
       " 'principal_skinner',\n",
       " 'charles_montgomery_burns',\n",
       " 'milhouse_van_houten']"
      ]
     },
     "execution_count": 5,
     "metadata": {},
     "output_type": "execute_result"
    }
   ],
   "source": [
    "characters = []\n",
    "count = 0\n",
    "for i in char_dict:\n",
    "    characters.append(i[0])\n",
    "    count+=1\n",
    "    if count == 10:\n",
    "        break\n",
    "characters"
   ]
  },
  {
   "cell_type": "markdown",
   "id": "976fd805",
   "metadata": {
    "papermill": {
     "duration": 0.009963,
     "end_time": "2022-10-10T10:18:36.612895",
     "exception": false,
     "start_time": "2022-10-10T10:18:36.602932",
     "status": "completed"
    },
    "tags": []
   },
   "source": [
    "# Create a Training Data using caer. Each character has a folder with its images inside.  Character label will take the folder names as label."
   ]
  },
  {
   "cell_type": "code",
   "execution_count": 6,
   "id": "11545480",
   "metadata": {
    "execution": {
     "iopub.execute_input": "2022-10-10T10:18:36.634001Z",
     "iopub.status.busy": "2022-10-10T10:18:36.633734Z",
     "iopub.status.idle": "2022-10-10T10:20:52.621628Z",
     "shell.execute_reply": "2022-10-10T10:20:52.620711Z"
    },
    "papermill": {
     "duration": 136.001592,
     "end_time": "2022-10-10T10:20:52.624519",
     "exception": false,
     "start_time": "2022-10-10T10:18:36.622927",
     "status": "completed"
    },
    "tags": []
   },
   "outputs": [
    {
     "name": "stdout",
     "output_type": "stream",
     "text": [
      "[INFO] Could not find a file to load from. Generating the training data\n",
      "----------------------------------------------\n",
      "[INFO] At 1000 files\n",
      "[INFO] At 2000 files\n",
      "[INFO] 2246 files found in 2.850114107131958s\n",
      "[INFO] At 1000 files\n",
      "[INFO] 1454 files found in 0.9657449722290039s\n",
      "[INFO] At 1000 files\n",
      "[INFO] 1452 files found in 1.0339648723602295s\n",
      "[INFO] At 1000 files\n",
      "[INFO] 1354 files found in 0.5879521369934082s\n",
      "[INFO] At 1000 files\n",
      "[INFO] 1342 files found in 0.5333011150360107s\n",
      "[INFO] At 1000 files\n",
      "[INFO] 1291 files found in 0.41868138313293457s\n",
      "[INFO] At 1000 files\n",
      "[INFO] 1206 files found in 0.20972228050231934s\n",
      "[INFO] At 1000 files\n",
      "[INFO] 1194 files found in 0.14265990257263184s\n",
      "[INFO] At 1000 files\n",
      "[INFO] 1193 files found in 0.22059965133666992s\n",
      "[INFO] At 1000 files\n",
      "[INFO] 1079 files found in 0.003574848175048828s\n",
      "----------------------------------------------\n",
      "[INFO] 13811 files preprocessed! Took 2m 16s\n"
     ]
    }
   ],
   "source": [
    "#Create a training data\n",
    "\n",
    "train = caer.preprocess_from_dir(char_path,characters,channels= channels, IMG_SIZE = IMG_SIZE,isShuffle=True)\n"
   ]
  },
  {
   "cell_type": "markdown",
   "id": "9da5d513",
   "metadata": {
    "papermill": {
     "duration": 0.016229,
     "end_time": "2022-10-10T10:20:52.658019",
     "exception": false,
     "start_time": "2022-10-10T10:20:52.641790",
     "status": "completed"
    },
    "tags": []
   },
   "source": [
    "# Show a sample image"
   ]
  },
  {
   "cell_type": "code",
   "execution_count": 7,
   "id": "0e7f7db1",
   "metadata": {
    "execution": {
     "iopub.execute_input": "2022-10-10T10:20:52.692641Z",
     "iopub.status.busy": "2022-10-10T10:20:52.692195Z",
     "iopub.status.idle": "2022-10-10T10:20:52.697047Z",
     "shell.execute_reply": "2022-10-10T10:20:52.696097Z"
    },
    "papermill": {
     "duration": 0.026055,
     "end_time": "2022-10-10T10:20:52.701004",
     "exception": false,
     "start_time": "2022-10-10T10:20:52.674949",
     "status": "completed"
    },
    "tags": []
   },
   "outputs": [],
   "source": [
    "import matplotlib.pyplot as plt"
   ]
  },
  {
   "cell_type": "code",
   "execution_count": 8,
   "id": "e8c24998",
   "metadata": {
    "execution": {
     "iopub.execute_input": "2022-10-10T10:20:52.743239Z",
     "iopub.status.busy": "2022-10-10T10:20:52.742962Z",
     "iopub.status.idle": "2022-10-10T10:20:53.379578Z",
     "shell.execute_reply": "2022-10-10T10:20:53.378616Z"
    },
    "papermill": {
     "duration": 0.664459,
     "end_time": "2022-10-10T10:20:53.382284",
     "exception": false,
     "start_time": "2022-10-10T10:20:52.717825",
     "status": "completed"
    },
    "tags": []
   },
   "outputs": [
    {
     "data": {
      "image/png": "[encoded data removed]",
      "text/plain": [
       "<Figure size 2160x2160 with 1 Axes>"
      ]
     },
     "metadata": {
      "needs_background": "light"
     },
     "output_type": "display_data"
    }
   ],
   "source": [
    "plt.figure(figsize=(30,30))\n",
    "plt.imshow(train[0][0],cmap='gray')\n",
    "plt.show()\n"
   ]
  },
  {
   "cell_type": "markdown",
   "id": "4be16edf",
   "metadata": {
    "papermill": {
     "duration": 0.016855,
     "end_time": "2022-10-10T10:20:53.417102",
     "exception": false,
     "start_time": "2022-10-10T10:20:53.400247",
     "status": "completed"
    },
    "tags": []
   },
   "source": [
    "# Initialize a Training Dataset"
   ]
  },
  {
   "cell_type": "code",
   "execution_count": 9,
   "id": "2ab00ae9",
   "metadata": {
    "execution": {
     "iopub.execute_input": "2022-10-10T10:20:53.452288Z",
     "iopub.status.busy": "2022-10-10T10:20:53.451802Z",
     "iopub.status.idle": "2022-10-10T10:20:53.520364Z",
     "shell.execute_reply": "2022-10-10T10:20:53.519175Z"
    },
    "papermill": {
     "duration": 0.089808,
     "end_time": "2022-10-10T10:20:53.523708",
     "exception": false,
     "start_time": "2022-10-10T10:20:53.433900",
     "status": "completed"
    },
    "tags": []
   },
   "outputs": [],
   "source": [
    "featureSet, labels = caer.sep_train(train,IMG_SIZE=IMG_SIZE)"
   ]
  },
  {
   "cell_type": "markdown",
   "id": "b4b12eb4",
   "metadata": {
    "papermill": {
     "duration": 0.015469,
     "end_time": "2022-10-10T10:20:53.556394",
     "exception": false,
     "start_time": "2022-10-10T10:20:53.540925",
     "status": "completed"
    },
    "tags": []
   },
   "source": [
    "# Normalize the training dataset (0-1)"
   ]
  },
  {
   "cell_type": "code",
   "execution_count": 10,
   "id": "a72e70ca",
   "metadata": {
    "execution": {
     "iopub.execute_input": "2022-10-10T10:20:53.590374Z",
     "iopub.status.busy": "2022-10-10T10:20:53.589834Z",
     "iopub.status.idle": "2022-10-10T10:20:53.595085Z",
     "shell.execute_reply": "2022-10-10T10:20:53.594105Z"
    },
    "papermill": {
     "duration": 0.026828,
     "end_time": "2022-10-10T10:20:53.599318",
     "exception": false,
     "start_time": "2022-10-10T10:20:53.572490",
     "status": "completed"
    },
    "tags": []
   },
   "outputs": [],
   "source": [
    "from tensorflow.keras.utils import to_categorical"
   ]
  },
  {
   "cell_type": "code",
   "execution_count": 11,
   "id": "b6c4acb1",
   "metadata": {
    "execution": {
     "iopub.execute_input": "2022-10-10T10:20:53.633625Z",
     "iopub.status.busy": "2022-10-10T10:20:53.633217Z",
     "iopub.status.idle": "2022-10-10T10:20:53.790409Z",
     "shell.execute_reply": "2022-10-10T10:20:53.789128Z"
    },
    "papermill": {
     "duration": 0.184506,
     "end_time": "2022-10-10T10:20:53.800435",
     "exception": false,
     "start_time": "2022-10-10T10:20:53.615929",
     "status": "completed"
    },
    "tags": []
   },
   "outputs": [],
   "source": [
    "#Normalize the featureSet =>(0.1)\n",
    "\n",
    "featureSet = caer.normalize(featureSet)\n",
    "labels = to_categorical(labels,len(characters))\n"
   ]
  },
  {
   "cell_type": "markdown",
   "id": "30b3ddf8",
   "metadata": {
    "papermill": {
     "duration": 0.019247,
     "end_time": "2022-10-10T10:20:53.838839",
     "exception": false,
     "start_time": "2022-10-10T10:20:53.819592",
     "status": "completed"
    },
    "tags": []
   },
   "source": [
    "# Take a 20% of the training data set as Validation Set"
   ]
  },
  {
   "cell_type": "code",
   "execution_count": 12,
   "id": "3a3bfd0b",
   "metadata": {
    "execution": {
     "iopub.execute_input": "2022-10-10T10:20:53.876886Z",
     "iopub.status.busy": "2022-10-10T10:20:53.876195Z",
     "iopub.status.idle": "2022-10-10T10:20:54.266365Z",
     "shell.execute_reply": "2022-10-10T10:20:54.265343Z"
    },
    "papermill": {
     "duration": 0.411899,
     "end_time": "2022-10-10T10:20:54.268980",
     "exception": false,
     "start_time": "2022-10-10T10:20:53.857081",
     "status": "completed"
    },
    "tags": []
   },
   "outputs": [],
   "source": [
    "x_train, x_val, y_train, y_val = caer.train_val_split(featureSet,labels,val_ratio=0.2)"
   ]
  },
  {
   "cell_type": "code",
   "execution_count": 13,
   "id": "0e6f314f",
   "metadata": {
    "execution": {
     "iopub.execute_input": "2022-10-10T10:20:54.310974Z",
     "iopub.status.busy": "2022-10-10T10:20:54.310382Z",
     "iopub.status.idle": "2022-10-10T10:20:54.316898Z",
     "shell.execute_reply": "2022-10-10T10:20:54.315912Z"
    },
    "papermill": {
     "duration": 0.033023,
     "end_time": "2022-10-10T10:20:54.322536",
     "exception": false,
     "start_time": "2022-10-10T10:20:54.289513",
     "status": "completed"
    },
    "tags": []
   },
   "outputs": [
    {
     "data": {
      "text/plain": [
       "2764"
      ]
     },
     "execution_count": 13,
     "metadata": {},
     "output_type": "execute_result"
    }
   ],
   "source": [
    "len(y_val)\n"
   ]
  },
  {
   "cell_type": "markdown",
   "id": "3c9abbb1",
   "metadata": {
    "papermill": {
     "duration": 0.018175,
     "end_time": "2022-10-10T10:20:54.358888",
     "exception": false,
     "start_time": "2022-10-10T10:20:54.340713",
     "status": "completed"
    },
    "tags": []
   },
   "source": [
    "# Relase memory by deleting data no longer needed"
   ]
  },
  {
   "cell_type": "code",
   "execution_count": 14,
   "id": "5900477f",
   "metadata": {
    "execution": {
     "iopub.execute_input": "2022-10-10T10:20:54.396285Z",
     "iopub.status.busy": "2022-10-10T10:20:54.395718Z",
     "iopub.status.idle": "2022-10-10T10:20:54.579732Z",
     "shell.execute_reply": "2022-10-10T10:20:54.578858Z"
    },
    "papermill": {
     "duration": 0.205183,
     "end_time": "2022-10-10T10:20:54.582041",
     "exception": false,
     "start_time": "2022-10-10T10:20:54.376858",
     "status": "completed"
    },
    "tags": []
   },
   "outputs": [
    {
     "data": {
      "text/plain": [
       "42"
      ]
     },
     "execution_count": 14,
     "metadata": {},
     "output_type": "execute_result"
    }
   ],
   "source": [
    "del train\n",
    "del featureSet\n",
    "del labels\n",
    "gc.collect()"
   ]
  },
  {
   "cell_type": "markdown",
   "id": "8d2f4e7e",
   "metadata": {
    "papermill": {
     "duration": 0.011814,
     "end_time": "2022-10-10T10:20:54.606159",
     "exception": false,
     "start_time": "2022-10-10T10:20:54.594345",
     "status": "completed"
    },
    "tags": []
   },
   "source": [
    "# Set Batch Size and epoch parameters"
   ]
  },
  {
   "cell_type": "code",
   "execution_count": 15,
   "id": "668910bf",
   "metadata": {
    "execution": {
     "iopub.execute_input": "2022-10-10T10:20:54.631854Z",
     "iopub.status.busy": "2022-10-10T10:20:54.631139Z",
     "iopub.status.idle": "2022-10-10T10:20:54.635912Z",
     "shell.execute_reply": "2022-10-10T10:20:54.635044Z"
    },
    "papermill": {
     "duration": 0.01959,
     "end_time": "2022-10-10T10:20:54.638027",
     "exception": false,
     "start_time": "2022-10-10T10:20:54.618437",
     "status": "completed"
    },
    "tags": []
   },
   "outputs": [],
   "source": [
    "BATCH_SIZE = 32\n",
    "EPOCHS = 10"
   ]
  },
  {
   "cell_type": "markdown",
   "id": "2ca2a8d0",
   "metadata": {
    "papermill": {
     "duration": 0.011271,
     "end_time": "2022-10-10T10:20:54.660816",
     "exception": false,
     "start_time": "2022-10-10T10:20:54.649545",
     "status": "completed"
    },
    "tags": []
   },
   "source": [
    "# Initialize image data generator"
   ]
  },
  {
   "cell_type": "code",
   "execution_count": 16,
   "id": "001ca3c2",
   "metadata": {
    "execution": {
     "iopub.execute_input": "2022-10-10T10:20:54.684895Z",
     "iopub.status.busy": "2022-10-10T10:20:54.684614Z",
     "iopub.status.idle": "2022-10-10T10:20:54.690870Z",
     "shell.execute_reply": "2022-10-10T10:20:54.689995Z"
    },
    "papermill": {
     "duration": 0.020535,
     "end_time": "2022-10-10T10:20:54.692893",
     "exception": false,
     "start_time": "2022-10-10T10:20:54.672358",
     "status": "completed"
    },
    "tags": []
   },
   "outputs": [],
   "source": [
    "#Image Data generator\n",
    "\n",
    "datagen = canaro.generators.imageDataGenerator()\n",
    "train_gen = datagen.flow(x_train, y_train, batch_size=BATCH_SIZE)\n"
   ]
  },
  {
   "cell_type": "markdown",
   "id": "c3e2cdd4",
   "metadata": {
    "papermill": {
     "duration": 0.011472,
     "end_time": "2022-10-10T10:20:54.716012",
     "exception": false,
     "start_time": "2022-10-10T10:20:54.704540",
     "status": "completed"
    },
    "tags": []
   },
   "source": [
    "# Create the model"
   ]
  },
  {
   "cell_type": "code",
   "execution_count": 17,
   "id": "04c739fd",
   "metadata": {
    "execution": {
     "iopub.execute_input": "2022-10-10T10:20:54.739988Z",
     "iopub.status.busy": "2022-10-10T10:20:54.739693Z",
     "iopub.status.idle": "2022-10-10T10:20:57.629079Z",
     "shell.execute_reply": "2022-10-10T10:20:57.628121Z"
    },
    "papermill": {
     "duration": 2.904605,
     "end_time": "2022-10-10T10:20:57.632160",
     "exception": false,
     "start_time": "2022-10-10T10:20:54.727555",
     "status": "completed"
    },
    "tags": []
   },
   "outputs": [
    {
     "name": "stderr",
     "output_type": "stream",
     "text": [
      "/opt/conda/lib/python3.7/site-packages/keras/optimizer_v2/optimizer_v2.py:356: UserWarning: The `lr` argument is deprecated, use `learning_rate` instead.\n",
      "  \"The `lr` argument is deprecated, use `learning_rate` instead.\")\n"
     ]
    }
   ],
   "source": [
    "# Creating a model\n",
    "\n",
    "model = canaro.models.createSimpsonsModel(IMG_SIZE = IMG_SIZE,output_dim = len(characters),channels=channels,loss='binary_crossentropy',decay=1e-6,learning_rate=0.001,momentum=0.9,nesterov=True)"
   ]
  },
  {
   "cell_type": "code",
   "execution_count": 18,
   "id": "55713109",
   "metadata": {
    "execution": {
     "iopub.execute_input": "2022-10-10T10:20:57.658245Z",
     "iopub.status.busy": "2022-10-10T10:20:57.657925Z",
     "iopub.status.idle": "2022-10-10T10:20:57.664910Z",
     "shell.execute_reply": "2022-10-10T10:20:57.663977Z"
    },
    "papermill": {
     "duration": 0.023184,
     "end_time": "2022-10-10T10:20:57.667908",
     "exception": false,
     "start_time": "2022-10-10T10:20:57.644724",
     "status": "completed"
    },
    "tags": []
   },
   "outputs": [
    {
     "name": "stdout",
     "output_type": "stream",
     "text": [
      "Model: \"sequential_1\"\n",
      "_________________________________________________________________\n",
      "Layer (type)                 Output Shape              Param #   \n",
      "=================================================================\n",
      "conv2d_6 (Conv2D)            (None, 80, 80, 32)        320       \n",
      "_________________________________________________________________\n",
      "conv2d_7 (Conv2D)            (None, 78, 78, 32)        9248      \n",
      "_________________________________________________________________\n",
      "max_pooling2d_3 (MaxPooling2 (None, 39, 39, 32)        0         \n",
      "_________________________________________________________________\n",
      "dropout_4 (Dropout)          (None, 39, 39, 32)        0         \n",
      "_________________________________________________________________\n",
      "conv2d_8 (Conv2D)            (None, 39, 39, 64)        18496     \n",
      "_________________________________________________________________\n",
      "conv2d_9 (Conv2D)            (None, 37, 37, 64)        36928     \n",
      "_________________________________________________________________\n",
      "max_pooling2d_4 (MaxPooling2 (None, 18, 18, 64)        0         \n",
      "_________________________________________________________________\n",
      "dropout_5 (Dropout)          (None, 18, 18, 64)        0         \n",
      "_________________________________________________________________\n",
      "conv2d_10 (Conv2D)           (None, 18, 18, 256)       147712    \n",
      "_________________________________________________________________\n",
      "conv2d_11 (Conv2D)           (None, 16, 16, 256)       590080    \n",
      "_________________________________________________________________\n",
      "max_pooling2d_5 (MaxPooling2 (None, 8, 8, 256)         0         \n",
      "_________________________________________________________________\n",
      "dropout_6 (Dropout)          (None, 8, 8, 256)         0         \n",
      "_________________________________________________________________\n",
      "flatten_1 (Flatten)          (None, 16384)             0         \n",
      "_________________________________________________________________\n",
      "dropout_7 (Dropout)          (None, 16384)             0         \n",
      "_________________________________________________________________\n",
      "dense_1 (Dense)              (None, 1024)              16778240  \n",
      "_________________________________________________________________\n",
      "dense_2 (Dense)              (None, 10)                10250     \n",
      "=================================================================\n",
      "Total params: 17,591,274\n",
      "Trainable params: 17,591,274\n",
      "Non-trainable params: 0\n",
      "_________________________________________________________________\n"
     ]
    }
   ],
   "source": [
    "model.summary()"
   ]
  },
  {
   "cell_type": "code",
   "execution_count": 19,
   "id": "dd9cab1e",
   "metadata": {
    "execution": {
     "iopub.execute_input": "2022-10-10T10:20:57.693280Z",
     "iopub.status.busy": "2022-10-10T10:20:57.692486Z",
     "iopub.status.idle": "2022-10-10T10:20:57.698230Z",
     "shell.execute_reply": "2022-10-10T10:20:57.697352Z"
    },
    "papermill": {
     "duration": 0.020382,
     "end_time": "2022-10-10T10:20:57.700228",
     "exception": false,
     "start_time": "2022-10-10T10:20:57.679846",
     "status": "completed"
    },
    "tags": []
   },
   "outputs": [],
   "source": [
    "from tensorflow.keras.callbacks import LearningRateScheduler\n",
    "\n",
    "callbacks_list = [LearningRateScheduler(canaro.lr_schedule)]"
   ]
  },
  {
   "cell_type": "markdown",
   "id": "f5fbafe2",
   "metadata": {
    "papermill": {
     "duration": 0.011561,
     "end_time": "2022-10-10T10:20:57.723519",
     "exception": false,
     "start_time": "2022-10-10T10:20:57.711958",
     "status": "completed"
    },
    "tags": []
   },
   "source": [
    "# Train the model "
   ]
  },
  {
   "cell_type": "code",
   "execution_count": 20,
   "id": "c77330e6",
   "metadata": {
    "execution": {
     "iopub.execute_input": "2022-10-10T10:20:57.748369Z",
     "iopub.status.busy": "2022-10-10T10:20:57.747556Z",
     "iopub.status.idle": "2022-10-10T10:22:42.525121Z",
     "shell.execute_reply": "2022-10-10T10:22:42.524113Z"
    },
    "papermill": {
     "duration": 104.793237,
     "end_time": "2022-10-10T10:22:42.528287",
     "exception": false,
     "start_time": "2022-10-10T10:20:57.735050",
     "status": "completed"
    },
    "tags": []
   },
   "outputs": [
    {
     "name": "stdout",
     "output_type": "stream",
     "text": [
      "Epoch 1/10\n",
      "345/345 [==============================] - 17s 27ms/step - loss: 0.3391 - accuracy: 0.1527 - val_loss: 0.3378 - val_accuracy: 0.1596\n",
      "Epoch 2/10\n",
      "345/345 [==============================] - 8s 24ms/step - loss: 0.3235 - accuracy: 0.1624\n",
      "Epoch 3/10\n",
      "345/345 [==============================] - 9s 27ms/step - loss: 0.3226 - accuracy: 0.1639\n",
      "Epoch 4/10\n",
      "345/345 [==============================] - 9s 25ms/step - loss: 0.3153 - accuracy: 0.1909\n",
      "Epoch 5/10\n",
      "345/345 [==============================] - 9s 25ms/step - loss: 0.3065 - accuracy: 0.2379\n",
      "Epoch 6/10\n",
      "345/345 [==============================] - 9s 27ms/step - loss: 0.3029 - accuracy: 0.2550\n",
      "Epoch 7/10\n",
      "345/345 [==============================] - 9s 25ms/step - loss: 0.3000 - accuracy: 0.2645\n",
      "Epoch 8/10\n",
      "345/345 [==============================] - 9s 26ms/step - loss: 0.2971 - accuracy: 0.2794\n",
      "Epoch 9/10\n",
      "345/345 [==============================] - 10s 28ms/step - loss: 0.2954 - accuracy: 0.2837\n",
      "Epoch 10/10\n",
      "345/345 [==============================] - 9s 26ms/step - loss: 0.2925 - accuracy: 0.2999\n"
     ]
    }
   ],
   "source": [
    "training = model.fit(train_gen,\n",
    "                    steps_per_epoch = len(x_train)//BATCH_SIZE,\n",
    "                    epochs = EPOCHS,\n",
    "                    validation_data = (x_val,y_val),\n",
    "                    validation_steps = len(y_val)//BATCH_SIZE,\n",
    "                    callbacks = callbacks_list\n",
    "                    )"
   ]
  },
  {
   "cell_type": "markdown",
   "id": "146a5a2c",
   "metadata": {
    "papermill": {
     "duration": 0.081914,
     "end_time": "2022-10-10T10:22:42.742504",
     "exception": false,
     "start_time": "2022-10-10T10:22:42.660590",
     "status": "completed"
    },
    "tags": []
   },
   "source": [
    "# Choose an image for validation"
   ]
  },
  {
   "cell_type": "code",
   "execution_count": 21,
   "id": "653cba4e",
   "metadata": {
    "execution": {
     "iopub.execute_input": "2022-10-10T10:22:42.909294Z",
     "iopub.status.busy": "2022-10-10T10:22:42.908917Z",
     "iopub.status.idle": "2022-10-10T10:22:43.128953Z",
     "shell.execute_reply": "2022-10-10T10:22:43.128015Z"
    },
    "papermill": {
     "duration": 0.306657,
     "end_time": "2022-10-10T10:22:43.131324",
     "exception": false,
     "start_time": "2022-10-10T10:22:42.824667",
     "status": "completed"
    },
    "tags": []
   },
   "outputs": [
    {
     "data": {
      "image/png": "[encoded data removed]",
      "text/plain": [
       "<Figure size 432x288 with 1 Axes>"
      ]
     },
     "metadata": {
      "needs_background": "light"
     },
     "output_type": "display_data"
    }
   ],
   "source": [
    "test_path =r'../input/the-simpsons-characters-dataset/kaggle_simpson_testset/kaggle_simpson_testset/bart_simpson_15.jpg'\n",
    "\n",
    "img = cv.imread(test_path)\n",
    "plt.imshow(img,cmap='gray')\n",
    "plt.show()"
   ]
  },
  {
   "cell_type": "markdown",
   "id": "be4dc751",
   "metadata": {
    "papermill": {
     "duration": 0.085902,
     "end_time": "2022-10-10T10:22:43.300807",
     "exception": false,
     "start_time": "2022-10-10T10:22:43.214905",
     "status": "completed"
    },
    "tags": []
   },
   "source": [
    "# The image to predict should have same parameters of the training images, so it should be 80x80 and gray."
   ]
  },
  {
   "cell_type": "code",
   "execution_count": 22,
   "id": "21158715",
   "metadata": {
    "execution": {
     "iopub.execute_input": "2022-10-10T10:22:43.470424Z",
     "iopub.status.busy": "2022-10-10T10:22:43.470011Z",
     "iopub.status.idle": "2022-10-10T10:22:43.475271Z",
     "shell.execute_reply": "2022-10-10T10:22:43.474221Z"
    },
    "papermill": {
     "duration": 0.092381,
     "end_time": "2022-10-10T10:22:43.477388",
     "exception": false,
     "start_time": "2022-10-10T10:22:43.385007",
     "status": "completed"
    },
    "tags": []
   },
   "outputs": [],
   "source": [
    "#Prepare the image\n",
    "\n",
    "def prepare(img):\n",
    "    img = cv.cvtColor(img,cv.COLOR_BGR2GRAY)\n",
    "    img = cv.resize(img,IMG_SIZE)\n",
    "    img = caer.reshape(img, IMG_SIZE,1)\n",
    "    return img"
   ]
  },
  {
   "cell_type": "markdown",
   "id": "0352df9c",
   "metadata": {
    "papermill": {
     "duration": 0.083669,
     "end_time": "2022-10-10T10:22:43.644024",
     "exception": false,
     "start_time": "2022-10-10T10:22:43.560355",
     "status": "completed"
    },
    "tags": []
   },
   "source": [
    "# Make the prediction"
   ]
  },
  {
   "cell_type": "code",
   "execution_count": 23,
   "id": "0418482c",
   "metadata": {
    "execution": {
     "iopub.execute_input": "2022-10-10T10:22:43.817626Z",
     "iopub.status.busy": "2022-10-10T10:22:43.817258Z",
     "iopub.status.idle": "2022-10-10T10:22:43.999105Z",
     "shell.execute_reply": "2022-10-10T10:22:43.998100Z"
    },
    "papermill": {
     "duration": 0.275239,
     "end_time": "2022-10-10T10:22:44.001636",
     "exception": false,
     "start_time": "2022-10-10T10:22:43.726397",
     "status": "completed"
    },
    "tags": []
   },
   "outputs": [],
   "source": [
    "predictions = model.predict(prepare(img))\n"
   ]
  },
  {
   "cell_type": "code",
   "execution_count": 24,
   "id": "4c7b2e73",
   "metadata": {
    "execution": {
     "iopub.execute_input": "2022-10-10T10:22:44.237934Z",
     "iopub.status.busy": "2022-10-10T10:22:44.237413Z",
     "iopub.status.idle": "2022-10-10T10:22:44.250005Z",
     "shell.execute_reply": "2022-10-10T10:22:44.248775Z"
    },
    "papermill": {
     "duration": 0.169979,
     "end_time": "2022-10-10T10:22:44.253970",
     "exception": false,
     "start_time": "2022-10-10T10:22:44.083991",
     "status": "completed"
    },
    "tags": []
   },
   "outputs": [
    {
     "data": {
      "text/plain": [
       "array([[0., 0., 0., 1., 0., 0., 0., 0., 0., 0.]], dtype=float32)"
      ]
     },
     "execution_count": 24,
     "metadata": {},
     "output_type": "execute_result"
    }
   ],
   "source": [
    "predictions\n"
   ]
  },
  {
   "cell_type": "markdown",
   "id": "b64fa0a4",
   "metadata": {
    "papermill": {
     "duration": 0.083983,
     "end_time": "2022-10-10T10:22:44.438283",
     "exception": false,
     "start_time": "2022-10-10T10:22:44.354300",
     "status": "completed"
    },
    "tags": []
   },
   "source": [
    "# search for the name of the charater with the maximum value in the prediction matrix"
   ]
  },
  {
   "cell_type": "code",
   "execution_count": 25,
   "id": "a6a294b8",
   "metadata": {
    "execution": {
     "iopub.execute_input": "2022-10-10T10:22:44.607725Z",
     "iopub.status.busy": "2022-10-10T10:22:44.607361Z",
     "iopub.status.idle": "2022-10-10T10:22:44.612646Z",
     "shell.execute_reply": "2022-10-10T10:22:44.611711Z"
    },
    "papermill": {
     "duration": 0.093884,
     "end_time": "2022-10-10T10:22:44.615135",
     "exception": false,
     "start_time": "2022-10-10T10:22:44.521251",
     "status": "completed"
    },
    "tags": []
   },
   "outputs": [
    {
     "name": "stdout",
     "output_type": "stream",
     "text": [
      "lisa_simpson\n"
     ]
    }
   ],
   "source": [
    "print(characters[np.argmax(predictions[0])])"
   ]
  }
 ],
 "metadata": {
  "kernelspec": {
   "display_name": "Python 3",
   "language": "python",
   "name": "python3"
  },
  "language_info": {
   "codemirror_mode": {
    "name": "ipython",
    "version": 3
   },
   "file_extension": ".py",
   "mimetype": "text/x-python",
   "name": "python",
   "nbconvert_exporter": "python",
   "pygments_lexer": "ipython3",
   "version": "3.7.12"
  },
  "papermill": {
   "default_parameters": {},
   "duration": 301.551682,
   "end_time": "2022-10-10T10:22:48.596037",
   "environment_variables": {},
   "exception": null,
   "input_path": "__notebook__.ipynb",
   "output_path": "__notebook__.ipynb",
   "parameters": {},
   "start_time": "2022-10-10T10:17:47.044355",
   "version": "2.3.4"
  }
 },
 "nbformat": 4,
 "nbformat_minor": 5
}
